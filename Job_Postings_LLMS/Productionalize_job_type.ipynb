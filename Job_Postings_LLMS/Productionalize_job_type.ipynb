{
 "cells": [
  {
   "cell_type": "markdown",
   "id": "395c449b-f4ec-4b87-b62c-3276f7cedf67",
   "metadata": {},
   "source": [
    "# README"
   ]
  },
  {
   "cell_type": "markdown",
   "id": "8906b569-d891-4d1e-bb0b-8bfd3a5b34f2",
   "metadata": {},
   "source": [
    "This File is used to take the multi classification job type pytorch model to onnx model and then to optomized tensorrt model."
   ]
  },
  {
   "cell_type": "markdown",
   "id": "22d10787-8bbd-42b4-aec2-16294c02cbea",
   "metadata": {},
   "source": [
    "# Imports"
   ]
  },
  {
   "cell_type": "code",
   "execution_count": 1,
   "id": "1d359d32-6171-44a9-8857-f87f9f5450f5",
   "metadata": {},
   "outputs": [],
   "source": [
    "import torch\n",
    "\n",
    "from transformers import BertTokenizer, DistilBertTokenizer, AutoModelForTokenClassification\n",
    "import onnx\n",
    "import tensorrt as trt\n",
    "import onnxruntime as ort\n",
    "import pycuda.driver as cuda\n",
    "import pycuda.autoinit\n",
    "import numpy as np\n",
    "import json\n",
    "import os\n",
    "import pandas as pd"
   ]
  },
  {
   "cell_type": "code",
   "execution_count": 2,
   "id": "da58d0a4-274b-4c06-8bf0-c8a35e8f9566",
   "metadata": {},
   "outputs": [
    {
     "name": "stdout",
     "output_type": "stream",
     "text": [
      "/home/connor/Documents/jobs/jobs/Job_Type_Model\n"
     ]
    }
   ],
   "source": [
    "# Sanity Check \n",
    "print(os.getcwd())"
   ]
  },
  {
   "cell_type": "markdown",
   "id": "7eddcfef-7e21-459a-beb2-e948ca01a71c",
   "metadata": {},
   "source": [
    "# Create Production Model"
   ]
  },
  {
   "cell_type": "markdown",
   "id": "3f03a041-33be-43f0-83dd-e71b11aafac1",
   "metadata": {},
   "source": [
    "## Tokenizer and Model load"
   ]
  },
  {
   "cell_type": "code",
   "execution_count": 36,
   "id": "2ad105c2-3337-4fed-841c-bde83aa35642",
   "metadata": {},
   "outputs": [
    {
     "name": "stderr",
     "output_type": "stream",
     "text": [
      "The tokenizer class you load from this checkpoint is not the same type as the class this function is called from. It may result in unexpected tokenization. \n",
      "The tokenizer class you load from this checkpoint is 'BertTokenizer'. \n",
      "The class this function is called from is 'DistilBertTokenizerFast'.\n"
     ]
    },
    {
     "data": {
      "text/plain": [
       "DistilBertForSequenceClassification(\n",
       "  (distilbert): DistilBertModel(\n",
       "    (embeddings): Embeddings(\n",
       "      (word_embeddings): Embedding(30524, 768, padding_idx=0)\n",
       "      (position_embeddings): Embedding(512, 768)\n",
       "      (LayerNorm): LayerNorm((768,), eps=1e-12, elementwise_affine=True)\n",
       "      (dropout): Dropout(p=0.1, inplace=False)\n",
       "    )\n",
       "    (transformer): Transformer(\n",
       "      (layer): ModuleList(\n",
       "        (0-5): 6 x TransformerBlock(\n",
       "          (attention): MultiHeadSelfAttention(\n",
       "            (dropout): Dropout(p=0.1, inplace=False)\n",
       "            (q_lin): Linear(in_features=768, out_features=768, bias=True)\n",
       "            (k_lin): Linear(in_features=768, out_features=768, bias=True)\n",
       "            (v_lin): Linear(in_features=768, out_features=768, bias=True)\n",
       "            (out_lin): Linear(in_features=768, out_features=768, bias=True)\n",
       "          )\n",
       "          (sa_layer_norm): LayerNorm((768,), eps=1e-12, elementwise_affine=True)\n",
       "          (ffn): FFN(\n",
       "            (dropout): Dropout(p=0.1, inplace=False)\n",
       "            (lin1): Linear(in_features=768, out_features=3072, bias=True)\n",
       "            (lin2): Linear(in_features=3072, out_features=768, bias=True)\n",
       "            (activation): GELUActivation()\n",
       "          )\n",
       "          (output_layer_norm): LayerNorm((768,), eps=1e-12, elementwise_affine=True)\n",
       "        )\n",
       "      )\n",
       "    )\n",
       "  )\n",
       "  (pre_classifier): Linear(in_features=768, out_features=768, bias=True)\n",
       "  (classifier): Linear(in_features=768, out_features=12, bias=True)\n",
       "  (dropout): Dropout(p=0.2, inplace=False)\n",
       ")"
      ]
     },
     "execution_count": 36,
     "metadata": {},
     "output_type": "execute_result"
    }
   ],
   "source": [
    "out_put_dir = \"./jobLevel_multi_bert_all_1\"\n",
    "tokeninzer_out_put_dir = out_put_dir+\"_tokenizer\"\n",
    "loaded_tokenizer = DistilBertTokenizerFast.from_pretrained(tokeninzer_out_put_dir)\n",
    "with open(tokeninzer_out_put_dir + \"/tokenizer_config.json\", \"r\") as f:\n",
    "    tokenizer_config = json.load(f)\n",
    "\n",
    "max_length = tokenizer_config.get('max_length', 256)\n",
    "truncation = tokenizer_config.get('truncation', True)\n",
    "padding = tokenizer_config.get('padding', 'max_length')\n",
    "\n",
    "\n",
    "loaded_model = DistilBertForSequenceClassification.from_pretrained(out_put_dir)\n",
    "loaded_model.eval()"
   ]
  },
  {
   "cell_type": "markdown",
   "id": "58c88f8a-4f44-462b-931e-8037dfe999b4",
   "metadata": {},
   "source": [
    "## Data Load"
   ]
  },
  {
   "cell_type": "code",
   "execution_count": 5,
   "id": "e3293d02-5e1f-4e7f-b031-91aecb1f60ec",
   "metadata": {},
   "outputs": [],
   "source": [
    "quan_df = pd.read_csv('job_type_data/model_labeled.csv', index_col=0)"
   ]
  },
  {
   "cell_type": "markdown",
   "id": "81a5b740-7000-4aa9-a3f9-e85b8d9379f7",
   "metadata": {},
   "source": [
    "## Create Input Example"
   ]
  },
  {
   "cell_type": "code",
   "execution_count": 14,
   "id": "ef844769-a3f9-4dc5-b678-d09b058df233",
   "metadata": {},
   "outputs": [],
   "source": [
    "text = quan_df.iloc[0]['input_row']\n",
    "inputs = loaded_tokenizer(\n",
    "    text,\n",
    "    max_length=max_length,\n",
    "    truncation=truncation,\n",
    "    padding=padding,\n",
    "    return_tensors=\"pt\"\n",
    ")"
   ]
  },
  {
   "cell_type": "markdown",
   "id": "53a972bc-85d0-45f8-b107-bae290a4a797",
   "metadata": {},
   "source": [
    "## Onx model build"
   ]
  },
  {
   "cell_type": "code",
   "execution_count": 56,
   "id": "cfa5248c-5a51-481f-8988-0b937951ef69",
   "metadata": {},
   "outputs": [],
   "source": [
    "onnx_model_name= \"industry_classifier.onnx\"\n",
    "torch.onnx.export(\n",
    "    loaded_model,\n",
    "    (inputs[\"input_ids\"], inputs[\"attention_mask\"]),\n",
    "    onnx_model_name,\n",
    "    input_names=[\"input_ids\", \"attention_mask\"],\n",
    "    output_names=[\"logits\"],\n",
    "    dynamic_axes={\n",
    "        \"input_ids\": {0: \"batch_size\"}, \n",
    "        \"attention_mask\": {0: \"batch_size\"}, \n",
    "        \"logits\": {0: \"batch_size\"}\n",
    "    },\n",
    "    opset_version=11  # ONNX set version for compatibility\n",
    ")"
   ]
  },
  {
   "cell_type": "markdown",
   "id": "b91de897-51e6-4069-8df0-28e0153ae8ac",
   "metadata": {},
   "source": [
    "## Create the .trt model using terminal\n",
    "Lower precision less memory \n",
    "```\n",
    "trtexec --onnx=industry_classifier.onnx --saveEngine=location_classifier.trt --fp16\n",
    "```\n",
    "Lower precision with batch size 1 or 2\n",
    "```\n",
    "trtexec --onnx=industry_classifier.onnx --saveEngine=location_classifier_v2.trt --fp16 \\\n",
    "        --minShapes=input_ids:1x512,attention_mask:1x512 \\ \n",
    "        --optShapes=input_ids:2x512,attention_mask:2x512 \\\n",
    "        --maxShapes=input_ids:2x512,attention_mask:2x512\n",
    "```\n",
    "Batch size 1 or 2 \n",
    "```\n",
    "trtexec --onnx=industry_classifier.onnx --saveEngine=location_classifier_v3.trt \\\n",
    "        --minShapes=input_ids:1x512,attention_mask:1x512 \\\n",
    "        --optShapes=input_ids:2x512,attention_mask:2x512 \\\n",
    "        --maxShapes=input_ids:2x512,attention_mask:2x512\n",
    "```"
   ]
  },
  {
   "cell_type": "markdown",
   "id": "f308a8b5-3829-4936-955e-02ac38e89296",
   "metadata": {},
   "source": [
    "# TensorRT Model test and usage"
   ]
  },
  {
   "cell_type": "code",
   "execution_count": 14,
   "id": "b74dcd1d-cbbd-49f4-a6f5-7adcf6548b1d",
   "metadata": {},
   "outputs": [],
   "source": [
    "def load_engine(trt_engine_path):\n",
    "    \"\"\"\n",
    "    Loads the Tensorrt engine\n",
    "    \"\"\"\n",
    "    TRT_LOGGER = trt.Logger(trt.Logger.WARNING)\n",
    "    with open(trt_engine_path, \"rb\") as f, trt.Runtime(TRT_LOGGER) as runtime:\n",
    "        return runtime.deserialize_cuda_engine(f.read())\n",
    "        \n",
    "def deload_engine(engine, context):\n",
    "    \"\"\"Function to clean up the engine and context.\"\"\"\n",
    "    if context:\n",
    "        context.__del__()  # Explicitly call context destructor\n",
    "    del engine  # Delete the engine object to free memory\n",
    "    del context  # Delete the context object to free memory\n",
    "\n",
    "def run_inference(context, input_ids, attention_mask):\n",
    "    \"\"\"\n",
    "    Run Input through tensorrt model\n",
    "    \"\"\"    \n",
    "    # Allocate memory for inputs and outputs on the GPU\n",
    "    d_input_ids = cuda.mem_alloc(input_ids.nbytes)\n",
    "    d_attention_mask = cuda.mem_alloc(attention_mask.nbytes)\n",
    "\n",
    "    # Prepare output buffer \n",
    "    output_shape = (input_ids.shape[0], 11)\n",
    "    d_output = cuda.mem_alloc(int(np.prod(output_shape) * np.dtype(np.float32).itemsize))\n",
    "\n",
    "    # Copy inputs to device memory\n",
    "    cuda.memcpy_htod(d_input_ids, input_ids)\n",
    "    cuda.memcpy_htod(d_attention_mask, attention_mask)\n",
    "\n",
    "    # Run inference\n",
    "    bindings = [int(d_input_ids), int(d_attention_mask), int(d_output)]\n",
    "    context.execute_v2(bindings)\n",
    "\n",
    "    # Copy outputs back to host\n",
    "    output = np.empty(output_shape, dtype=np.float32)\n",
    "    cuda.memcpy_dtoh(output, d_output)\n",
    "\n",
    "    return output"
   ]
  },
  {
   "cell_type": "code",
   "execution_count": 15,
   "id": "b4ac551c-1be6-4147-8b9f-6a8427bec0a7",
   "metadata": {},
   "outputs": [
    {
     "name": "stdout",
     "output_type": "stream",
     "text": [
      "[10/06/2024-17:42:50] [TRT] [W] Using an engine plan file across different models of devices is not recommended and is likely to affect performance or even cause errors.\n"
     ]
    }
   ],
   "source": [
    "# Load the TensorRT engine\n",
    "engine = load_engine(\"industry_classifier.trt\")\n",
    "context = engine.create_execution_context()"
   ]
  },
  {
   "cell_type": "code",
   "execution_count": 7,
   "id": "de6cdee2-f5a0-49d7-b669-f2dcc13bf508",
   "metadata": {},
   "outputs": [],
   "source": [
    "# To Deload the model \n",
    "# deload_engine(engine, context) "
   ]
  },
  {
   "cell_type": "markdown",
   "id": "45d6b290-2bd2-40b5-929b-39a575265c4f",
   "metadata": {},
   "source": [
    "## Single Example Data Load"
   ]
  },
  {
   "cell_type": "code",
   "execution_count": 10,
   "id": "80b47f56-57e9-4d80-ad9c-c5f7c422e3c5",
   "metadata": {},
   "outputs": [
    {
     "name": "stdout",
     "output_type": "stream",
     "text": [
      "[TITLE] k-5 elementary teacher for 2024-2025 school year [DESC] elementary teacher reports to school director flsa classification certificated, 190-day full time part time status salary, full time, exempt regular temporary regular salary teacher framework steps 1-32 range $63,280- $112,776. salary is commensurate with experience and education level. developed by a coalition of san diego civic leaders and educators, high tech high opened in september 2000 as a small public charter school with plans to serve approximately 450 students. hth has evolved into an integrated network of sixteen charter schools serving approximately 6,350 students in grades k-12 across four campuses. located in san diego county, california, high tech high hth is guided by four connected design principlesequity, personalization, authentic work, and collaborative designthat set aspirational goals and create a foundation for understanding our approach. if you are motivated by these principles, we encourage you to join our team htenc seeks a 3rd grade teacher. job summary under the general supervision and guidance of the school director, teachers are responsible for preparing lesson plans and educating students. their duties include assigning homework, grading tests, and documenting progress. teachers must be able to command their classroom and reach students with an engaging project-based curriculum. teachers are responsible for creating and maintaining a learning environment that guides and encourages students to develop and fulfill their academic potential and accomplish the learning goals of high tech high. duties include embodies high tech highs design principles of equity, personalization, authentic work and collaborative design in all work activities and actions creates daily lesson plans with project-based assignments that are engaging, educational and exciting for the kids plans, prepares and delivers instructional activities that facilitate active learning experiences incorporates goals, competencies and objectives into lesson plans in ways that directly apply to the students life. achieves school and course-wide performance goals for every student in class grades assignments and homework regularly to keep students updated on how they are doing identifies students who are struggling with learning, emotional problems, or situations at home, and finds them the resources they need the ideal candidate would possess the following competencies ability to efficiently and effectively manage the time of self and others ability to work with professionalism, discretion, sound judgment, equity, honesty and personal accountability at all times possesses strong written and verbal communication skills exceptional administrative and organization skills proficient knowledge of teaching strategies and methods ability to incorporate goals, competencies and objectives into lesson plans in ways that directly apply to students lives critical thinking skills ability to manage diversity education and or experience bachelors degree valid california teaching credential or out-of-state teaching license salary & benefits salary is commensurate with experience. hth offers a very competitive benefits package, to include medical, dental, and vision for full-time employees and their dependents. apply today if you fit the qualifications above and are looking for a forward-thinking, innovative institution that embodies visionary leadership and embraces diversity, then high tech high is the place for you high tech high provides equal employment opportunities eeo to all employees and applicants for employment without regard to race, color, religion, sex, national origin, age, disability, or genetics. in addition to federal law requirements, high tech high complies with applicable state and local laws governing nondiscrimination in employment in every location in which the practice has facilities. this policy applies to all terms and conditions of employment, including recruiting, hiring, placement, promotion, termination, layoff, recall, transfer, leaves of absence, compensation and training.\n"
     ]
    }
   ],
   "source": [
    "# Load one example input\n",
    "text = quan_df.iloc[0]['input_row']\n",
    "print(text)\n",
    "inputs = loaded_tokenizer(\n",
    "    text,\n",
    "    max_length=max_length,\n",
    "    truncation=truncation,\n",
    "    padding=padding,\n",
    "    return_tensors=\"np\"\n",
    ")"
   ]
  },
  {
   "cell_type": "code",
   "execution_count": 11,
   "id": "4b0ede14-02a0-4f6d-9300-7b276a8e5265",
   "metadata": {},
   "outputs": [],
   "source": [
    "input_ids = inputs['input_ids']\n",
    "attention_mask = inputs['attention_mask']"
   ]
  },
  {
   "cell_type": "code",
   "execution_count": 16,
   "id": "86e5afe1-ee93-4134-ba04-a42228e86631",
   "metadata": {},
   "outputs": [
    {
     "name": "stdout",
     "output_type": "stream",
     "text": [
      "Predicted class: [6]\n"
     ]
    }
   ],
   "source": [
    "# Run inference\n",
    "output = run_inference(context, input_ids, attention_mask)\n",
    "predicted_class = np.argmax(output, axis=-1)\n",
    "print(f\"Predicted class: {predicted_class}\")"
   ]
  },
  {
   "cell_type": "code",
   "execution_count": 60,
   "id": "e72685c2-7c2a-469d-ab70-6691e6c648a0",
   "metadata": {},
   "outputs": [
    {
     "data": {
      "text/plain": [
       "6"
      ]
     },
     "execution_count": 60,
     "metadata": {},
     "output_type": "execute_result"
    }
   ],
   "source": [
    "list(predicted_class)[0]"
   ]
  },
  {
   "cell_type": "markdown",
   "id": "245e8419-371f-455c-90cd-d197ecd1e654",
   "metadata": {},
   "source": [
    "## Batch prediction with tensorrt"
   ]
  },
  {
   "cell_type": "code",
   "execution_count": 17,
   "id": "c747db3f-f4c3-45aa-a7ce-55f97bceff2e",
   "metadata": {},
   "outputs": [],
   "source": [
    "def predict_batch(texts, tokenizer, context, batch_size=32):\n",
    "    \"\"\"\n",
    "    This function tokenizes a batch of texts and performs inference on them using the TensorRT engine.\n",
    "    \n",
    "    Args:\n",
    "        texts (list): List of input texts.\n",
    "        tokenizer: Hugging Face tokenizer.\n",
    "        context: TensorRT context for inference.\n",
    "        batch_size (int): Batch size for inference.\n",
    "    \n",
    "    Returns:\n",
    "        List of predicted class labels for each input text.\n",
    "    \"\"\"\n",
    "    predictions = []\n",
    "    \n",
    "    # Process in batches\n",
    "    for i in tqdm(range(0, len(texts), batch_size)):\n",
    "        batch_texts = texts[i:i + batch_size]\n",
    "        \n",
    "        # Tokenize batch\n",
    "        inputs = tokenizer(\n",
    "            batch_texts,\n",
    "            max_length=max_length,\n",
    "            truncation=truncation,\n",
    "            padding=padding,\n",
    "            return_tensors=\"np\"\n",
    "        )\n",
    "        \n",
    "        input_ids = inputs['input_ids']\n",
    "        attention_mask = inputs['attention_mask']\n",
    "        \n",
    "        # Run inference on the batch\n",
    "        output = run_inference(context, input_ids, attention_mask)\n",
    "        \n",
    "        # Get predicted classes\n",
    "        predicted_classes = np.argmax(output, axis=-1)\n",
    "        predictions.extend(predicted_classes)\n",
    "    \n",
    "    return predictions\n",
    "\n",
    "def batch_inference(df, input_col, tokenizer, context, batch_size=32):\n",
    "    \"\"\"\n",
    "    Function to perform batch inference on a Pandas DataFrame column using a TensorRT engine.\n",
    "    \n",
    "    Args:\n",
    "        df (pd.DataFrame): DataFrame containing the input texts.\n",
    "        input_col (str): Name of the column containing input texts.\n",
    "        tokenizer: Hugging Face tokenizer.\n",
    "        context: TensorRT context.\n",
    "        batch_size (int): Batch size for inference.\n",
    "    \n",
    "    Returns:\n",
    "        pd.Series: Series of predicted classes for each row in the DataFrame.\n",
    "    \"\"\"\n",
    "    texts = df[input_col].tolist()\n",
    "    \n",
    "    start_time = time.time()\n",
    "\n",
    "    # Perform the batch prediction\n",
    "    predicted_classes = predict_batch(texts, tokenizer, context, batch_size=batch_size)\n",
    "\n",
    "    end_time = time.time()\n",
    "    total_time = end_time - start_time\n",
    "\n",
    "    print(f\"Batch inference completed in {total_time:.2f} seconds\")\n",
    "\n",
    "    return pd.Series(predicted_classes, index=df.index)"
   ]
  },
  {
   "cell_type": "code",
   "execution_count": 18,
   "id": "2a243341-2a8b-4d9c-b405-cdc72e321253",
   "metadata": {},
   "outputs": [
    {
     "name": "stderr",
     "output_type": "stream",
     "text": [
      "100%|██████████| 40/40 [01:07<00:00,  1.68s/it]"
     ]
    },
    {
     "name": "stdout",
     "output_type": "stream",
     "text": [
      "Batch inference completed in 67.05 seconds\n"
     ]
    },
    {
     "name": "stderr",
     "output_type": "stream",
     "text": [
      "\n"
     ]
    }
   ],
   "source": [
    "quan_df['batch'] = batch_inference(quan_df, 'input_row', loaded_tokenizer, context, batch_size=256)\n"
   ]
  },
  {
   "cell_type": "code",
   "execution_count": 19,
   "id": "b697ace6-acb6-48cb-8983-40db610ecb28",
   "metadata": {},
   "outputs": [
    {
     "data": {
      "text/plain": [
       "44533    6\n",
       "61014    1\n",
       "7677     0\n",
       "60161    0\n",
       "16171    0\n",
       "        ..\n",
       "66393    0\n",
       "29270    0\n",
       "147      0\n",
       "12659    0\n",
       "60326    0\n",
       "Name: batch, Length: 10000, dtype: int64"
      ]
     },
     "execution_count": 19,
     "metadata": {},
     "output_type": "execute_result"
    }
   ],
   "source": [
    "quan_df['batch']"
   ]
  },
  {
   "cell_type": "code",
   "execution_count": 21,
   "id": "55fcf99b-deec-486c-8604-56a60de0b5cf",
   "metadata": {},
   "outputs": [
    {
     "data": {
      "text/html": [
       "<div>\n",
       "<style scoped>\n",
       "    .dataframe tbody tr th:only-of-type {\n",
       "        vertical-align: middle;\n",
       "    }\n",
       "\n",
       "    .dataframe tbody tr th {\n",
       "        vertical-align: top;\n",
       "    }\n",
       "\n",
       "    .dataframe thead th {\n",
       "        text-align: right;\n",
       "    }\n",
       "</style>\n",
       "<table border=\"1\" class=\"dataframe\">\n",
       "  <thead>\n",
       "    <tr style=\"text-align: right;\">\n",
       "      <th></th>\n",
       "      <th>company</th>\n",
       "      <th>title</th>\n",
       "      <th>description</th>\n",
       "      <th>title_processed</th>\n",
       "      <th>description_processed</th>\n",
       "      <th>description_processed_stop</th>\n",
       "      <th>title_processed_stop</th>\n",
       "      <th>input_row</th>\n",
       "      <th>labels</th>\n",
       "      <th>label_str</th>\n",
       "    </tr>\n",
       "  </thead>\n",
       "  <tbody>\n",
       "    <tr>\n",
       "      <th>44533</th>\n",
       "      <td>hightechhigh</td>\n",
       "      <td>K-5 Elementary Teacher for 2024-2025 School Year</td>\n",
       "      <td>Elementary Teacher   Reports To: School Direc...</td>\n",
       "      <td>k-5 elementary teacher for 2024-2025 school year</td>\n",
       "      <td>elementary teacher reports to school director ...</td>\n",
       "      <td>elementary teacher reports school director fls...</td>\n",
       "      <td>k-5 elementary teacher 2024-2025 school year</td>\n",
       "      <td>[TITLE] k-5 elementary teacher for 2024-2025 s...</td>\n",
       "      <td>6</td>\n",
       "      <td>education</td>\n",
       "    </tr>\n",
       "    <tr>\n",
       "      <th>61014</th>\n",
       "      <td>lowes::wd5::LWS_External_CS</td>\n",
       "      <td>In Home Consultant</td>\n",
       "      <td>What You Will Do All Lowes associates deliver ...</td>\n",
       "      <td>in home consultant</td>\n",
       "      <td>what you will do all lowes associates deliver ...</td>\n",
       "      <td>lowes associates deliver quality customer serv...</td>\n",
       "      <td>home consultant</td>\n",
       "      <td>[TITLE] in home consultant [DESC] what you wil...</td>\n",
       "      <td>4</td>\n",
       "      <td>service industry</td>\n",
       "    </tr>\n",
       "    <tr>\n",
       "      <th>7677</th>\n",
       "      <td>carrier::wd5::jobs</td>\n",
       "      <td>Indirect Purchasing</td>\n",
       "      <td>Country: ThailandLocation: Carrier (Thailand) ...</td>\n",
       "      <td>indirect purchasing</td>\n",
       "      <td>country thailandlocation carrier thailand limi...</td>\n",
       "      <td>country thailandlocation carrier thailand limi...</td>\n",
       "      <td>indirect purchasing</td>\n",
       "      <td>[TITLE] indirect purchasing [DESC] country tha...</td>\n",
       "      <td>4</td>\n",
       "      <td>service industry</td>\n",
       "    </tr>\n",
       "    <tr>\n",
       "      <th>60161</th>\n",
       "      <td>csl::wd1::CSL_External</td>\n",
       "      <td>Quality Specialist</td>\n",
       "      <td>The OpportunityThis position provides immediat...</td>\n",
       "      <td>quality specialist</td>\n",
       "      <td>the opportunitythis position provides immediat...</td>\n",
       "      <td>opportunitythis position provides immediate su...</td>\n",
       "      <td>quality specialist</td>\n",
       "      <td>[TITLE] quality specialist [DESC] the opportun...</td>\n",
       "      <td>1</td>\n",
       "      <td>medical</td>\n",
       "    </tr>\n",
       "    <tr>\n",
       "      <th>16171</th>\n",
       "      <td>myhrhome::wd1::OneMainCareers</td>\n",
       "      <td>Consumer Loan Sales Specialist</td>\n",
       "      <td>At OneMain, Consumer Loan Sales Specialists em...</td>\n",
       "      <td>consumer loan sales specialist</td>\n",
       "      <td>at onemain, consumer loan sales specialists em...</td>\n",
       "      <td>onemain , consumer loan sales specialists empo...</td>\n",
       "      <td>consumer loan sales specialist</td>\n",
       "      <td>[TITLE] consumer loan sales specialist [DESC] ...</td>\n",
       "      <td>11</td>\n",
       "      <td>finance</td>\n",
       "    </tr>\n",
       "    <tr>\n",
       "      <th>...</th>\n",
       "      <td>...</td>\n",
       "      <td>...</td>\n",
       "      <td>...</td>\n",
       "      <td>...</td>\n",
       "      <td>...</td>\n",
       "      <td>...</td>\n",
       "      <td>...</td>\n",
       "      <td>...</td>\n",
       "      <td>...</td>\n",
       "      <td>...</td>\n",
       "    </tr>\n",
       "    <tr>\n",
       "      <th>40882</th>\n",
       "      <td>michaels::wd5::External</td>\n",
       "      <td>Full Time Custom Framing Department Manager</td>\n",
       "      <td>Store - PALM BEACH-PALM BEACH GARDENS, FLLead ...</td>\n",
       "      <td>full time custom framing department manager</td>\n",
       "      <td>store - palm beach-palm beach gardens, fllead ...</td>\n",
       "      <td>store - palm beach-palm beach gardens , fllead...</td>\n",
       "      <td>full time custom framing department manager</td>\n",
       "      <td>[TITLE] full time custom framing department ma...</td>\n",
       "      <td>5</td>\n",
       "      <td>retail</td>\n",
       "    </tr>\n",
       "    <tr>\n",
       "      <th>18434</th>\n",
       "      <td>labcorp::wd1::External</td>\n",
       "      <td>Lab Assistant</td>\n",
       "      <td>At Labcorp we have a passion in helping people...</td>\n",
       "      <td>lab assistant</td>\n",
       "      <td>at labcorp we have a passion in helping people...</td>\n",
       "      <td>labcorp passion helping people live happy heal...</td>\n",
       "      <td>lab assistant</td>\n",
       "      <td>[TITLE] lab assistant [DESC] at labcorp we hav...</td>\n",
       "      <td>6</td>\n",
       "      <td>education</td>\n",
       "    </tr>\n",
       "    <tr>\n",
       "      <th>30970</th>\n",
       "      <td>pwc::wd3::Global_Experienced_Careers</td>\n",
       "      <td>Director</td>\n",
       "      <td>Line of ServiceAdvisoryIndustry/SectorFS X-Sec...</td>\n",
       "      <td>director</td>\n",
       "      <td>line of serviceadvisoryindustry sectorfs x-sec...</td>\n",
       "      <td>line serviceadvisoryindustry sectorfs x-sector...</td>\n",
       "      <td>director</td>\n",
       "      <td>[TITLE] director [DESC] line of serviceadvisor...</td>\n",
       "      <td>10</td>\n",
       "      <td>hr</td>\n",
       "    </tr>\n",
       "    <tr>\n",
       "      <th>57966</th>\n",
       "      <td>Jobnath</td>\n",
       "      <td>Required DRAFTSMAN</td>\n",
       "      <td>Required DRAFTSMANa) Establishing liaison with...</td>\n",
       "      <td>required draftsman</td>\n",
       "      <td>required draftsmana establishing liaison with ...</td>\n",
       "      <td>required draftsmana establishing liaison engin...</td>\n",
       "      <td>required draftsman</td>\n",
       "      <td>[TITLE] required draftsman [DESC] required dra...</td>\n",
       "      <td>9</td>\n",
       "      <td>skilled trades</td>\n",
       "    </tr>\n",
       "    <tr>\n",
       "      <th>10407</th>\n",
       "      <td>cvshealth::wd1::CVS_Health_Careers</td>\n",
       "      <td>Account Manager Omnicare</td>\n",
       "      <td>Bring your heart to CVS Health. Every one of u...</td>\n",
       "      <td>account manager omnicare</td>\n",
       "      <td>bring your heart to cvs health. every one of u...</td>\n",
       "      <td>bring heart cvs health . every one us cvs heal...</td>\n",
       "      <td>account manager omnicare</td>\n",
       "      <td>[TITLE] account manager omnicare [DESC] bring ...</td>\n",
       "      <td>4</td>\n",
       "      <td>service industry</td>\n",
       "    </tr>\n",
       "  </tbody>\n",
       "</table>\n",
       "<p>100 rows × 10 columns</p>\n",
       "</div>"
      ],
      "text/plain": [
       "                                    company  \\\n",
       "44533                          hightechhigh   \n",
       "61014           lowes::wd5::LWS_External_CS   \n",
       "7677                     carrier::wd5::jobs   \n",
       "60161                csl::wd1::CSL_External   \n",
       "16171         myhrhome::wd1::OneMainCareers   \n",
       "...                                     ...   \n",
       "40882               michaels::wd5::External   \n",
       "18434                labcorp::wd1::External   \n",
       "30970  pwc::wd3::Global_Experienced_Careers   \n",
       "57966                               Jobnath   \n",
       "10407    cvshealth::wd1::CVS_Health_Careers   \n",
       "\n",
       "                                                  title  \\\n",
       "44533  K-5 Elementary Teacher for 2024-2025 School Year   \n",
       "61014                                In Home Consultant   \n",
       "7677                                Indirect Purchasing   \n",
       "60161                                Quality Specialist   \n",
       "16171                    Consumer Loan Sales Specialist   \n",
       "...                                                 ...   \n",
       "40882       Full Time Custom Framing Department Manager   \n",
       "18434                                     Lab Assistant   \n",
       "30970                                          Director   \n",
       "57966                               Required DRAFTSMAN    \n",
       "10407                          Account Manager Omnicare   \n",
       "\n",
       "                                             description  \\\n",
       "44533   Elementary Teacher   Reports To: School Direc...   \n",
       "61014  What You Will Do All Lowes associates deliver ...   \n",
       "7677   Country: ThailandLocation: Carrier (Thailand) ...   \n",
       "60161  The OpportunityThis position provides immediat...   \n",
       "16171  At OneMain, Consumer Loan Sales Specialists em...   \n",
       "...                                                  ...   \n",
       "40882  Store - PALM BEACH-PALM BEACH GARDENS, FLLead ...   \n",
       "18434  At Labcorp we have a passion in helping people...   \n",
       "30970  Line of ServiceAdvisoryIndustry/SectorFS X-Sec...   \n",
       "57966  Required DRAFTSMANa) Establishing liaison with...   \n",
       "10407  Bring your heart to CVS Health. Every one of u...   \n",
       "\n",
       "                                        title_processed  \\\n",
       "44533  k-5 elementary teacher for 2024-2025 school year   \n",
       "61014                                in home consultant   \n",
       "7677                                indirect purchasing   \n",
       "60161                                quality specialist   \n",
       "16171                    consumer loan sales specialist   \n",
       "...                                                 ...   \n",
       "40882       full time custom framing department manager   \n",
       "18434                                     lab assistant   \n",
       "30970                                          director   \n",
       "57966                                required draftsman   \n",
       "10407                          account manager omnicare   \n",
       "\n",
       "                                   description_processed  \\\n",
       "44533  elementary teacher reports to school director ...   \n",
       "61014  what you will do all lowes associates deliver ...   \n",
       "7677   country thailandlocation carrier thailand limi...   \n",
       "60161  the opportunitythis position provides immediat...   \n",
       "16171  at onemain, consumer loan sales specialists em...   \n",
       "...                                                  ...   \n",
       "40882  store - palm beach-palm beach gardens, fllead ...   \n",
       "18434  at labcorp we have a passion in helping people...   \n",
       "30970  line of serviceadvisoryindustry sectorfs x-sec...   \n",
       "57966  required draftsmana establishing liaison with ...   \n",
       "10407  bring your heart to cvs health. every one of u...   \n",
       "\n",
       "                              description_processed_stop  \\\n",
       "44533  elementary teacher reports school director fls...   \n",
       "61014  lowes associates deliver quality customer serv...   \n",
       "7677   country thailandlocation carrier thailand limi...   \n",
       "60161  opportunitythis position provides immediate su...   \n",
       "16171  onemain , consumer loan sales specialists empo...   \n",
       "...                                                  ...   \n",
       "40882  store - palm beach-palm beach gardens , fllead...   \n",
       "18434  labcorp passion helping people live happy heal...   \n",
       "30970  line serviceadvisoryindustry sectorfs x-sector...   \n",
       "57966  required draftsmana establishing liaison engin...   \n",
       "10407  bring heart cvs health . every one us cvs heal...   \n",
       "\n",
       "                               title_processed_stop  \\\n",
       "44533  k-5 elementary teacher 2024-2025 school year   \n",
       "61014                               home consultant   \n",
       "7677                            indirect purchasing   \n",
       "60161                            quality specialist   \n",
       "16171                consumer loan sales specialist   \n",
       "...                                             ...   \n",
       "40882   full time custom framing department manager   \n",
       "18434                                 lab assistant   \n",
       "30970                                      director   \n",
       "57966                            required draftsman   \n",
       "10407                      account manager omnicare   \n",
       "\n",
       "                                               input_row  labels  \\\n",
       "44533  [TITLE] k-5 elementary teacher for 2024-2025 s...       6   \n",
       "61014  [TITLE] in home consultant [DESC] what you wil...       4   \n",
       "7677   [TITLE] indirect purchasing [DESC] country tha...       4   \n",
       "60161  [TITLE] quality specialist [DESC] the opportun...       1   \n",
       "16171  [TITLE] consumer loan sales specialist [DESC] ...      11   \n",
       "...                                                  ...     ...   \n",
       "40882  [TITLE] full time custom framing department ma...       5   \n",
       "18434  [TITLE] lab assistant [DESC] at labcorp we hav...       6   \n",
       "30970  [TITLE] director [DESC] line of serviceadvisor...      10   \n",
       "57966  [TITLE] required draftsman [DESC] required dra...       9   \n",
       "10407  [TITLE] account manager omnicare [DESC] bring ...       4   \n",
       "\n",
       "              label_str  \n",
       "44533         education  \n",
       "61014  service industry  \n",
       "7677   service industry  \n",
       "60161           medical  \n",
       "16171           finance  \n",
       "...                 ...  \n",
       "40882            retail  \n",
       "18434         education  \n",
       "30970                hr  \n",
       "57966    skilled trades  \n",
       "10407  service industry  \n",
       "\n",
       "[100 rows x 10 columns]"
      ]
     },
     "execution_count": 21,
     "metadata": {},
     "output_type": "execute_result"
    }
   ],
   "source": [
    "trial = quan_df.iloc[:100]\n",
    "trial"
   ]
  },
  {
   "cell_type": "markdown",
   "id": "a85499c0-f433-42f7-b2b1-40c8621d6955",
   "metadata": {},
   "source": [
    "## Compare Tensorrt and Pytorch model speeds\n",
    "The Goal of these cells was to test the speed up of tensorrt models vs pytorch models. "
   ]
  },
  {
   "cell_type": "code",
   "execution_count": null,
   "id": "830ba2a7-aeb8-4866-90ef-2846b22ba0c1",
   "metadata": {},
   "outputs": [],
   "source": [
    "text = quan_df.iloc[0]['input_row']\n",
    "print(text)\n",
    "inputs = loaded_tokenizer(\n",
    "    text,\n",
    "    max_length=max_length,\n",
    "    truncation=truncation,\n",
    "    padding=padding,\n",
    "    return_tensors=\"np\"\n",
    ")"
   ]
  },
  {
   "cell_type": "code",
   "execution_count": 22,
   "id": "01b4b44e-cb81-45d4-9f28-c4698e258d56",
   "metadata": {},
   "outputs": [],
   "source": [
    "def predict_fast(text):\n",
    "    \"\"\"\n",
    "    Predict function for tensorrt model\n",
    "    \"\"\"\n",
    "    inputs = loaded_tokenizer(\n",
    "        text,\n",
    "        max_length=max_length,\n",
    "        truncation=truncation,\n",
    "        padding=padding,\n",
    "        return_tensors=\"np\"\n",
    "    )\n",
    "    output = run_inference(context, inputs['input_ids'], inputs['attention_mask'])\n",
    "    predicted_class = np.argmax(output, axis=-1)\n",
    "    return predicted_class\n",
    "\n",
    "def predict_class(text):\n",
    "    \"\"\"\n",
    "    Predict function for pytorch model\n",
    "    \"\"\"\n",
    "    inputs = loaded_tokenizer(\n",
    "        text,\n",
    "        max_length=max_length,\n",
    "        truncation=truncation,\n",
    "        padding=padding,\n",
    "        return_tensors=\"pt\"\n",
    "    ).to('cuda')\n",
    "    \n",
    "    with torch.no_grad():\n",
    "        outputs = loaded_model(**inputs)\n",
    "    \n",
    "    logits = outputs.logits.cpu()\n",
    "    predicted_class = torch.argmax(logits, dim=-1).item()\n",
    "    \n",
    "    return predicted_class"
   ]
  },
  {
   "cell_type": "code",
   "execution_count": 42,
   "id": "33efe333-6561-4650-adaf-70bac661d986",
   "metadata": {},
   "outputs": [
    {
     "name": "stderr",
     "output_type": "stream",
     "text": [
      "100%|██████████| 10000/10000 [01:36<00:00, 103.47it/s]\n"
     ]
    }
   ],
   "source": [
    "quan_df['slow'] = quan_df['input_row'].progress_apply(predict_class)"
   ]
  },
  {
   "cell_type": "code",
   "execution_count": 23,
   "id": "9ae2e002-926a-4137-82a0-b386faacaa6c",
   "metadata": {},
   "outputs": [
    {
     "name": "stderr",
     "output_type": "stream",
     "text": [
      "100%|██████████| 10000/10000 [01:25<00:00, 117.09it/s]\n"
     ]
    }
   ],
   "source": [
    "quan_df['fast'] = quan_df['input_row'].progress_apply(predict_fast)"
   ]
  },
  {
   "cell_type": "code",
   "execution_count": 24,
   "id": "dd98cff9-3376-43c2-a28c-c638912461f5",
   "metadata": {},
   "outputs": [
    {
     "data": {
      "text/plain": [
       "44533    [6]\n",
       "61014    [4]\n",
       "7677     [4]\n",
       "60161    [1]\n",
       "16171    [7]\n",
       "        ... \n",
       "66393    [4]\n",
       "29270    [4]\n",
       "147      [4]\n",
       "12659    [9]\n",
       "60326    [4]\n",
       "Name: fast, Length: 10000, dtype: object"
      ]
     },
     "execution_count": 24,
     "metadata": {},
     "output_type": "execute_result"
    }
   ],
   "source": [
    "quan_df['fast']"
   ]
  },
  {
   "cell_type": "markdown",
   "id": "17516709-0ab5-4eaf-a879-3def6da35445",
   "metadata": {},
   "source": [
    "##  Test concurrent preprocessing \n",
    "\n",
    "The goal of these cells was to test if concurrent pre processing would see any speed ups in processing time."
   ]
  },
  {
   "cell_type": "code",
   "execution_count": 22,
   "id": "e804a325-91fe-4e48-8b3e-4176283da53d",
   "metadata": {},
   "outputs": [],
   "source": [
    "def preprocess_text_s( text): \n",
    "    \"\"\"Pre Process Text\"\"\"\n",
    "    if text is None:\n",
    "        return text\n",
    "\n",
    "    # Fix Contractions\n",
    "    text = contractions.fix(text)\n",
    "    \n",
    "    # Convert to lowercase\n",
    "    text = text.lower()\n",
    "    \n",
    "    # Remove non-standard UTF-8 characters\n",
    "    text = re.sub(r'[^\\x00-\\x7F]+', '', text)\n",
    "    \n",
    "    # Remove HTML tags\n",
    "    text = re.sub(r'<.*?>', '', text)\n",
    "\n",
    "    # Normalize accented characters to their ASCII equivalents\n",
    "    text = unicodedata.normalize('NFKD', text).encode('ascii', 'ignore').decode('ascii')\n",
    "\n",
    "    # Remove bullet points (at the start of a line or following whitespace)\n",
    "    text = re.sub(r'(^[\\s]*[\\u2022\\u2023\\u25E6\\u2043\\u2219*•-]\\s+)', '', text, flags=re.MULTILINE)\n",
    "\n",
    "    # Replace URLs with \"URL\"\n",
    "    text = re.sub(r'http\\S+|www.\\S+', 'URL', text)\n",
    "\n",
    "    # Replace phone numbers with \"PHONE_NUMBER\"\n",
    "    text = re.sub(r'\\(?\\b\\d{3}[-.)\\s]*\\d{3}[-.\\s]*\\d{4}\\b', 'PHONE_NUMBER', text)\n",
    "\n",
    "    # Replace email addresses with \"EMAIL\"\n",
    "    text = re.sub(r'\\b[A-Za-z0-9._%+-]+@[A-Za-z0-9.-]+\\.[A-Z|a-z]{2,}\\b', 'EMAIL', text)\n",
    "\n",
    "    # Replace more than three consecutive punctuation marks with a single instance\n",
    "    text = re.sub(r'([^\\w\\s])\\1{2,}', r'\\1', text)\n",
    "\n",
    "    # Remove parentheses, curly braces, and square brackets\n",
    "    text = re.sub(r'[\\(\\)\\{\\}\\[\\]]', ' ', text)\n",
    "\n",
    "    # Remove special characters \n",
    "    text = re.sub(r'[:;@\\/\\\\*#!?]', ' ', text)\n",
    "\n",
    "    # Remove extra whitespaces\n",
    "    text = re.sub(r'\\s+', ' ', text).strip()\n",
    "\n",
    "    return text\n",
    "\n",
    "def build_input( title, description):\n",
    "    \"\"\"\"Build Input Row\"\"\"\n",
    "    return f\"[TITLE] {preprocess_text_s(title)} [DESC] {preprocess_text_s(description)}\"\n",
    "\n",
    "\n",
    "def process_items_parallel(items):\n",
    "    with concurrent.futures.ThreadPoolExecutor() as executor:\n",
    "        results = list(executor.map(lambda item: build_input(item[0], item[1]), items))\n",
    "    return results\n"
   ]
  },
  {
   "cell_type": "code",
   "execution_count": 35,
   "id": "a159ab6e-1415-4a5f-9a9f-baae0f7de14a",
   "metadata": {},
   "outputs": [],
   "source": [
    "new_trail = quan_df[['title', 'description']].values.tolist()"
   ]
  },
  {
   "cell_type": "code",
   "execution_count": 38,
   "id": "e88f5529-bafd-4809-976b-4a7029f3fa9f",
   "metadata": {},
   "outputs": [],
   "source": [
    "import time"
   ]
  },
  {
   "cell_type": "code",
   "execution_count": 39,
   "id": "f23b06e1-5190-45b6-b98a-0e0990656b14",
   "metadata": {},
   "outputs": [
    {
     "name": "stdout",
     "output_type": "stream",
     "text": [
      "13.007951736450195\n"
     ]
    }
   ],
   "source": [
    "start = time.time()\n",
    "processed_trail = process_items_parallel(new_trail)\n",
    "end = time.time()\n",
    "print(end-start)"
   ]
  },
  {
   "cell_type": "code",
   "execution_count": 40,
   "id": "c93b05ae-6f3c-4146-8a76-295733aff9d9",
   "metadata": {},
   "outputs": [
    {
     "name": "stdout",
     "output_type": "stream",
     "text": [
      "6.360122442245483\n"
     ]
    }
   ],
   "source": [
    "start = time.time()\n",
    "new_list = []\n",
    "for item in new_trail:\n",
    "    new_list.append(build_input(item[0], item[1]))\n",
    "end = time.time()\n",
    "print(end-start)"
   ]
  },
  {
   "cell_type": "code",
   "execution_count": 37,
   "id": "808861a6-fa7f-46ef-9d91-1aab136873be",
   "metadata": {},
   "outputs": [
    {
     "data": {
      "text/plain": [
       "'[TITLE] k-5 elementary teacher for 2024-2025 school year [DESC] elementary teacher reports to school director flsa classification certificated, 190-day full time part time status salary, full time, exempt regular temporary regular salary teacher framework steps 1-32 range $63,280- $112,776. salary is commensurate with experience and education level. developed by a coalition of san diego civic leaders and educators, high tech high opened in september 2000 as a small public charter school with plans to serve approximately 450 students. hth has evolved into an integrated network of sixteen charter schools serving approximately 6,350 students in grades k-12 across four campuses. located in san diego county, california, high tech high hth is guided by four connected design principlesequity, personalization, authentic work, and collaborative designthat set aspirational goals and create a foundation for understanding our approach. if you are motivated by these principles, we encourage you to join our team htenc seeks a 3rd grade teacher. job summary under the general supervision and guidance of the school director, teachers are responsible for preparing lesson plans and educating students. their duties include assigning homework, grading tests, and documenting progress. teachers must be able to command their classroom and reach students with an engaging project-based curriculum. teachers are responsible for creating and maintaining a learning environment that guides and encourages students to develop and fulfill their academic potential and accomplish the learning goals of high tech high. duties include embodies high tech highs design principles of equity, personalization, authentic work and collaborative design in all work activities and actions creates daily lesson plans with project-based assignments that are engaging, educational and exciting for the kids plans, prepares and delivers instructional activities that facilitate active learning experiences incorporates goals, competencies and objectives into lesson plans in ways that directly apply to the students life. achieves school and course-wide performance goals for every student in class grades assignments and homework regularly to keep students updated on how they are doing identifies students who are struggling with learning, emotional problems, or situations at home, and finds them the resources they need the ideal candidate would possess the following competencies ability to efficiently and effectively manage the time of self and others ability to work with professionalism, discretion, sound judgment, equity, honesty and personal accountability at all times possesses strong written and verbal communication skills exceptional administrative and organization skills proficient knowledge of teaching strategies and methods ability to incorporate goals, competencies and objectives into lesson plans in ways that directly apply to students lives critical thinking skills ability to manage diversity education and or experience bachelors degree valid california teaching credential or out-of-state teaching license salary & benefits salary is commensurate with experience. hth offers a very competitive benefits package, to include medical, dental, and vision for full-time employees and their dependents. apply today if you fit the qualifications above and are looking for a forward-thinking, innovative institution that embodies visionary leadership and embraces diversity, then high tech high is the place for you high tech high provides equal employment opportunities eeo to all employees and applicants for employment without regard to race, color, religion, sex, national origin, age, disability, or genetics. in addition to federal law requirements, high tech high complies with applicable state and local laws governing nondiscrimination in employment in every location in which the practice has facilities. this policy applies to all terms and conditions of employment, including recruiting, hiring, placement, promotion, termination, layoff, recall, transfer, leaves of absence, compensation and training.'"
      ]
     },
     "execution_count": 37,
     "metadata": {},
     "output_type": "execute_result"
    }
   ],
   "source": [
    "processed_trail[0]"
   ]
  },
  {
   "cell_type": "code",
   "execution_count": null,
   "id": "ac946a70-ccc1-465b-983b-95ef2e21767b",
   "metadata": {},
   "outputs": [],
   "source": []
  }
 ],
 "metadata": {
  "kernelspec": {
   "display_name": "Python 3 (ipykernel)",
   "language": "python",
   "name": "python3"
  },
  "language_info": {
   "codemirror_mode": {
    "name": "ipython",
    "version": 3
   },
   "file_extension": ".py",
   "mimetype": "text/x-python",
   "name": "python",
   "nbconvert_exporter": "python",
   "pygments_lexer": "ipython3",
   "version": "3.11.9"
  }
 },
 "nbformat": 4,
 "nbformat_minor": 5
}
