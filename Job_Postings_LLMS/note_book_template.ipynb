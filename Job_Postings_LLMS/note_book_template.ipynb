{
 "cells": [
  {
   "cell_type": "markdown",
   "id": "059a87b4-16c5-4e3b-9207-afe52d3e57bf",
   "metadata": {},
   "source": [
    "# Imports "
   ]
  },
  {
   "cell_type": "code",
   "execution_count": null,
   "id": "998aca25-93b1-4bb9-806c-e64faa0e2337",
   "metadata": {},
   "outputs": [],
   "source": []
  },
  {
   "cell_type": "markdown",
   "id": "386a1abe-5111-41e5-9ee9-7842f284f7be",
   "metadata": {},
   "source": [
    "# Data Import"
   ]
  },
  {
   "cell_type": "code",
   "execution_count": null,
   "id": "d02a1080-38af-487b-aea4-51150dbb8507",
   "metadata": {},
   "outputs": [],
   "source": []
  },
  {
   "cell_type": "markdown",
   "id": "290306ea-3869-4c5a-8268-738b048102f0",
   "metadata": {},
   "source": [
    "# Data Explore"
   ]
  },
  {
   "cell_type": "code",
   "execution_count": null,
   "id": "9b956e01-4123-428d-aaf8-5b6b6e0ef2fd",
   "metadata": {},
   "outputs": [],
   "source": []
  },
  {
   "cell_type": "markdown",
   "id": "eb8f4e44-d764-43c0-b66c-6c2e3d0ba63b",
   "metadata": {},
   "source": [
    "# Helper Functions"
   ]
  },
  {
   "cell_type": "code",
   "execution_count": null,
   "id": "aca4abaf-4cff-4675-8289-7f679f4fa463",
   "metadata": {},
   "outputs": [],
   "source": []
  },
  {
   "cell_type": "markdown",
   "id": "7cc5cd32-1053-4531-88c4-48301386c185",
   "metadata": {},
   "source": [
    "# Model Build  "
   ]
  },
  {
   "cell_type": "code",
   "execution_count": null,
   "id": "208358ca-c9d0-4457-93e8-2a62fa8267c6",
   "metadata": {},
   "outputs": [],
   "source": []
  },
  {
   "cell_type": "markdown",
   "id": "835999c8-054d-4ee7-9183-3fb477984894",
   "metadata": {},
   "source": [
    "# Model Test"
   ]
  },
  {
   "cell_type": "code",
   "execution_count": null,
   "id": "d3a2a8ad-7f57-4c25-a6c5-7869dd5cba96",
   "metadata": {},
   "outputs": [],
   "source": []
  },
  {
   "cell_type": "markdown",
   "id": "69e90323-af90-46ae-b068-348160b79311",
   "metadata": {},
   "source": [
    "# Model Final  "
   ]
  },
  {
   "cell_type": "code",
   "execution_count": null,
   "id": "6f9cd6cf-b96d-40a5-a363-1380d5d83ec2",
   "metadata": {},
   "outputs": [],
   "source": []
  },
  {
   "cell_type": "code",
   "execution_count": null,
   "id": "8ceee51a-6753-4d4a-b9b2-ee2c58db33ad",
   "metadata": {},
   "outputs": [],
   "source": []
  }
 ],
 "metadata": {
  "kernelspec": {
   "display_name": "Python 3 (ipykernel)",
   "language": "python",
   "name": "python3"
  },
  "language_info": {
   "codemirror_mode": {
    "name": "ipython",
    "version": 3
   },
   "file_extension": ".py",
   "mimetype": "text/x-python",
   "name": "python",
   "nbconvert_exporter": "python",
   "pygments_lexer": "ipython3",
   "version": "3.9.19"
  }
 },
 "nbformat": 4,
 "nbformat_minor": 5
}
